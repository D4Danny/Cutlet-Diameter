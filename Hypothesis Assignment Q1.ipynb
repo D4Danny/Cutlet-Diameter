{
 "cells": [
  {
   "cell_type": "code",
   "execution_count": null,
   "id": "220d6e43",
   "metadata": {},
   "outputs": [],
   "source": [
    "#import the libraries\n",
    "import pandas as pd\n",
    "import numpy as np\n",
    "from statsmodels.stats.proportion import proportions_ztest"
   ]
  },
  {
   "cell_type": "code",
   "execution_count": null,
   "id": "6f051731",
   "metadata": {},
   "outputs": [],
   "source": [
    "#Load the dataset\n",
    "fnb=pd.read_csv(\"D:\\CSV FIles Path\\Assignments\\Hypothesis Testing\\Cutlets.csv\")"
   ]
  },
  {
   "cell_type": "code",
   "execution_count": null,
   "id": "19f9580a",
   "metadata": {},
   "outputs": [],
   "source": [
    "fnb"
   ]
  },
  {
   "cell_type": "code",
   "execution_count": null,
   "id": "884ed030",
   "metadata": {},
   "outputs": [],
   "source": [
    "sampleA=pd.Series(fnb.iloc[:,0])\n",
    "sampleA"
   ]
  },
  {
   "cell_type": "code",
   "execution_count": null,
   "id": "927a0569",
   "metadata": {},
   "outputs": [],
   "source": [
    "sampleB=pd.Series(fnb.iloc[:,1])\n",
    "sampleB"
   ]
  },
  {
   "cell_type": "code",
   "execution_count": null,
   "id": "08a6a305",
   "metadata": {},
   "outputs": [],
   "source": [
    "#2 Tail test. 2 Samples.\n",
    "pvalue=stats.ttest_ind(sampleA,sampleB)\n",
    "pvalue"
   ]
  },
  {
   "cell_type": "code",
   "execution_count": null,
   "id": "482e110b",
   "metadata": {},
   "outputs": [],
   "source": [
    "if pValue >0.05:\n",
    "  print('We accept null hypothesis')\n",
    "else:\n",
    "  print('We accept alternate hypothesis')"
   ]
  },
  {
   "cell_type": "code",
   "execution_count": null,
   "id": "be996993",
   "metadata": {},
   "outputs": [],
   "source": [
    "# Inference: There is no significant difference in the diameter of Unit A and Unit B Samples."
   ]
  },
  {
   "cell_type": "code",
   "execution_count": null,
   "id": "b02bdc1b",
   "metadata": {},
   "outputs": [],
   "source": []
  }
 ],
 "metadata": {
  "kernelspec": {
   "display_name": "Python 3",
   "language": "python",
   "name": "python3"
  },
  "language_info": {
   "codemirror_mode": {
    "name": "ipython",
    "version": 3
   },
   "file_extension": ".py",
   "mimetype": "text/x-python",
   "name": "python",
   "nbconvert_exporter": "python",
   "pygments_lexer": "ipython3",
   "version": "3.8.8"
  }
 },
 "nbformat": 4,
 "nbformat_minor": 5
}
